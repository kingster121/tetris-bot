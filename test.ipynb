{
 "cells": [
  {
   "cell_type": "code",
   "execution_count": 20,
   "metadata": {},
   "outputs": [],
   "source": [
    "from selenium import webdriver\n",
    "from selenium.webdriver.common.by import By\n",
    "from selenium.webdriver.common.keys import Keys  # Detect keypresses\n",
    "from selenium.webdriver.common.action_chains import ActionChains\n",
    "\n",
    "import time\n",
    "import pyautogui\n",
    "\n",
    "driver = webdriver.Firefox()\n",
    "driver.set_window_size(1920,1080)\n",
    "\n",
    "driver.get(\"https://tetris.com/play-tetris\")\n",
    "driver.implicitly_wait(10)  # Wait 10s for page to load"
   ]
  },
  {
   "cell_type": "code",
   "execution_count": null,
   "metadata": {},
   "outputs": [],
   "source": [
    "iframe = driver.find_element(By.ID, \"gameIFrame\")\n",
    "driver.switch_to.frame(iframe)"
   ]
  },
  {
   "cell_type": "code",
   "execution_count": null,
   "metadata": {},
   "outputs": [],
   "source": [
    "canvas = driver.find_element(By.ID, \"GameCanvas\")\n",
    "print(canvas)"
   ]
  },
  {
   "cell_type": "code",
   "execution_count": null,
   "metadata": {},
   "outputs": [],
   "source": [
    "canvas.location"
   ]
  },
  {
   "cell_type": "code",
   "execution_count": null,
   "metadata": {},
   "outputs": [],
   "source": [
    "# Scroll into view\n",
    "driver.execute_script(\"arguments[0].scrollIntoView();\", canvas)"
   ]
  },
  {
   "cell_type": "code",
   "execution_count": 19,
   "metadata": {},
   "outputs": [],
   "source": [
    "# Click on start button\n",
    "# time.sleep(10) # Wait for canvas to load\n",
    "pyautogui.moveTo(1000, 750)\n",
    "# pyautogui.click()"
   ]
  },
  {
   "cell_type": "code",
   "execution_count": null,
   "metadata": {},
   "outputs": [],
   "source": [
    "while True:\n",
    "    time.sleep(1)\n",
    "    canvas.send_keys(Keys.ARROW_LEFT)"
   ]
  },
  {
   "cell_type": "code",
   "execution_count": 22,
   "metadata": {},
   "outputs": [],
   "source": [
    "def start():\n",
    "        # Close ads\n",
    "        pyautogui.moveTo(30, 940)\n",
    "        pyautogui.click()\n",
    "        pyautogui.moveTo(850, 900)\n",
    "        pyautogui.click()\n",
    "        time.sleep(2)\n",
    "\n",
    "        # Start game\n",
    "        pyautogui.moveTo(900, 680)\n",
    "        pyautogui.click()\n",
    "def reset():\n",
    "    # Quit game\n",
    "    pyautogui.moveTo(1300, 980)\n",
    "    pyautogui.click()\n",
    "    pyautogui.moveTo(1000, 850)\n",
    "    pyautogui.click()\n",
    "    pyautogui.moveTo(1000, 750)\n",
    "    pyautogui.click()\n",
    "\n",
    "    time.sleep(2)\n",
    "\n",
    "    # Start game\n",
    "    start()\n",
    "    \n",
    "time.sleep(2)\n",
    "reset()"
   ]
  },
  {
   "cell_type": "code",
   "execution_count": 2,
   "metadata": {},
   "outputs": [],
   "source": [
    "from selenium import webdriver\n",
    " \n",
    "from PIL import Image\n",
    " \n",
    "# Here Chrome  will be used\n",
    "driver = webdriver.Firefox()\n",
    " \n",
    "# URL of website\n",
    "url = \"https://www.geeksforgeeks.org/\"\n",
    " \n",
    "# Opening the website\n",
    "driver.get(url)\n",
    " \n",
    "driver.save_screenshot(\"image.png\")\n",
    " \n",
    "# Loading the image\n",
    "image = Image.open(\"image.png\")\n",
    " \n",
    "# Showing the image\n",
    "image.show()"
   ]
  },
  {
   "cell_type": "code",
   "execution_count": 4,
   "metadata": {},
   "outputs": [
    {
     "name": "stdout",
     "output_type": "stream",
     "text": [
      "Time taken: 0.11784625053405762\n"
     ]
    }
   ],
   "source": [
    "import time\n",
    "start = time.time()\n",
    "driver.save_screenshot(\"image.png\")\n",
    "end = time.time()\n",
    "\n",
    "print(f\"Time taken: {end - start}\")"
   ]
  },
  {
   "cell_type": "code",
   "execution_count": null,
   "metadata": {},
   "outputs": [],
   "source": []
  }
 ],
 "metadata": {
  "kernelspec": {
   "display_name": "nnfs",
   "language": "python",
   "name": "python3"
  },
  "language_info": {
   "codemirror_mode": {
    "name": "ipython",
    "version": 3
   },
   "file_extension": ".py",
   "mimetype": "text/x-python",
   "name": "python",
   "nbconvert_exporter": "python",
   "pygments_lexer": "ipython3",
   "version": "3.11.3"
  },
  "orig_nbformat": 4
 },
 "nbformat": 4,
 "nbformat_minor": 2
}
